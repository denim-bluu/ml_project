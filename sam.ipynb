{
 "cells": [
  {
   "cell_type": "code",
   "execution_count": 68,
   "metadata": {},
   "outputs": [],
   "source": [
    "import pandas as pd\n",
    "import numpy as np\n",
    "import seaborn as sns\n",
    "import matplotlib.pyplot as plt\n",
    "\n",
    "from sklearn.preprocessing import StandardScaler\n",
    "from sklearn.model_selection import train_test_split\n",
    "from sklearn.metrics import classification_report, roc_auc_score, recall_score\n",
    "from sklearn.model_selection import GridSearchCV, RandomizedSearchCV\n",
    "from sklearn.discriminant_analysis import LinearDiscriminantAnalysis, QuadraticDiscriminantAnalysis\n",
    "from sklearn.svm import SVC\n",
    "import xgboost as xgb\n",
    "from xgboost import XGBClassifier"
   ]
  },
  {
   "cell_type": "code",
   "execution_count": 2,
   "metadata": {},
   "outputs": [],
   "source": [
    "df = pd.read_csv(\"heart.csv\")"
   ]
  },
  {
   "cell_type": "code",
   "execution_count": 37,
   "metadata": {},
   "outputs": [
    {
     "data": {
      "text/html": [
       "<div>\n",
       "<style scoped>\n",
       "    .dataframe tbody tr th:only-of-type {\n",
       "        vertical-align: middle;\n",
       "    }\n",
       "\n",
       "    .dataframe tbody tr th {\n",
       "        vertical-align: top;\n",
       "    }\n",
       "\n",
       "    .dataframe thead th {\n",
       "        text-align: right;\n",
       "    }\n",
       "</style>\n",
       "<table border=\"1\" class=\"dataframe\">\n",
       "  <thead>\n",
       "    <tr style=\"text-align: right;\">\n",
       "      <th></th>\n",
       "      <th>Age</th>\n",
       "      <th>Sex</th>\n",
       "      <th>ChestPainType</th>\n",
       "      <th>RestingBP</th>\n",
       "      <th>Cholesterol</th>\n",
       "      <th>FastingBS</th>\n",
       "      <th>RestingECG</th>\n",
       "      <th>MaxHR</th>\n",
       "      <th>ExerciseAngina</th>\n",
       "      <th>Oldpeak</th>\n",
       "      <th>ST_Slope</th>\n",
       "      <th>HeartDisease</th>\n",
       "    </tr>\n",
       "  </thead>\n",
       "  <tbody>\n",
       "    <tr>\n",
       "      <td>0</td>\n",
       "      <td>40</td>\n",
       "      <td>M</td>\n",
       "      <td>ATA</td>\n",
       "      <td>140</td>\n",
       "      <td>289</td>\n",
       "      <td>0</td>\n",
       "      <td>Normal</td>\n",
       "      <td>172</td>\n",
       "      <td>N</td>\n",
       "      <td>0.0</td>\n",
       "      <td>Up</td>\n",
       "      <td>0</td>\n",
       "    </tr>\n",
       "    <tr>\n",
       "      <td>1</td>\n",
       "      <td>49</td>\n",
       "      <td>F</td>\n",
       "      <td>NAP</td>\n",
       "      <td>160</td>\n",
       "      <td>180</td>\n",
       "      <td>0</td>\n",
       "      <td>Normal</td>\n",
       "      <td>156</td>\n",
       "      <td>N</td>\n",
       "      <td>1.0</td>\n",
       "      <td>Flat</td>\n",
       "      <td>1</td>\n",
       "    </tr>\n",
       "    <tr>\n",
       "      <td>2</td>\n",
       "      <td>37</td>\n",
       "      <td>M</td>\n",
       "      <td>ATA</td>\n",
       "      <td>130</td>\n",
       "      <td>283</td>\n",
       "      <td>0</td>\n",
       "      <td>ST</td>\n",
       "      <td>98</td>\n",
       "      <td>N</td>\n",
       "      <td>0.0</td>\n",
       "      <td>Up</td>\n",
       "      <td>0</td>\n",
       "    </tr>\n",
       "    <tr>\n",
       "      <td>3</td>\n",
       "      <td>48</td>\n",
       "      <td>F</td>\n",
       "      <td>ASY</td>\n",
       "      <td>138</td>\n",
       "      <td>214</td>\n",
       "      <td>0</td>\n",
       "      <td>Normal</td>\n",
       "      <td>108</td>\n",
       "      <td>Y</td>\n",
       "      <td>1.5</td>\n",
       "      <td>Flat</td>\n",
       "      <td>1</td>\n",
       "    </tr>\n",
       "    <tr>\n",
       "      <td>4</td>\n",
       "      <td>54</td>\n",
       "      <td>M</td>\n",
       "      <td>NAP</td>\n",
       "      <td>150</td>\n",
       "      <td>195</td>\n",
       "      <td>0</td>\n",
       "      <td>Normal</td>\n",
       "      <td>122</td>\n",
       "      <td>N</td>\n",
       "      <td>0.0</td>\n",
       "      <td>Up</td>\n",
       "      <td>0</td>\n",
       "    </tr>\n",
       "  </tbody>\n",
       "</table>\n",
       "</div>"
      ],
      "text/plain": [
       "   Age Sex ChestPainType  RestingBP  Cholesterol  FastingBS RestingECG  MaxHR  \\\n",
       "0   40   M           ATA        140          289          0     Normal    172   \n",
       "1   49   F           NAP        160          180          0     Normal    156   \n",
       "2   37   M           ATA        130          283          0         ST     98   \n",
       "3   48   F           ASY        138          214          0     Normal    108   \n",
       "4   54   M           NAP        150          195          0     Normal    122   \n",
       "\n",
       "  ExerciseAngina  Oldpeak ST_Slope  HeartDisease  \n",
       "0              N      0.0       Up             0  \n",
       "1              N      1.0     Flat             1  \n",
       "2              N      0.0       Up             0  \n",
       "3              Y      1.5     Flat             1  \n",
       "4              N      0.0       Up             0  "
      ]
     },
     "execution_count": 37,
     "metadata": {},
     "output_type": "execute_result"
    }
   ],
   "source": [
    "df.head()"
   ]
  },
  {
   "cell_type": "code",
   "execution_count": 3,
   "metadata": {},
   "outputs": [],
   "source": [
    "numeric_df = df.select_dtypes(np.number)\n",
    "scaled_features = StandardScaler().fit_transform(numeric_df.values)\n",
    "scaled_df = pd.DataFrame(scaled_features, columns=numeric_df.columns)"
   ]
  },
  {
   "cell_type": "code",
   "execution_count": 4,
   "metadata": {},
   "outputs": [],
   "source": [
    "cat_df = df.select_dtypes(exclude=np.number)\n",
    "dummy_df = pd.get_dummies(\n",
    "    cat_df, drop_first=True\n",
    ")  # Drop first dummy variable as a base"
   ]
  },
  {
   "cell_type": "code",
   "execution_count": 5,
   "metadata": {},
   "outputs": [],
   "source": [
    "features = pd.concat([scaled_df, dummy_df], axis=1)\n",
    "features[\"HeartDisease\"] = df[\n",
    "    \"HeartDisease\"\n",
    "]  # Undo standard scaling for target variable"
   ]
  },
  {
   "cell_type": "code",
   "execution_count": 6,
   "metadata": {},
   "outputs": [],
   "source": [
    "x = features.drop(columns=[\"HeartDisease\"])\n",
    "y = features[\"HeartDisease\"]\n",
    "\n",
    "X_train, X_test, y_train, y_test = train_test_split(x, y, test_size=0.3, random_state=1)"
   ]
  },
  {
   "cell_type": "markdown",
   "metadata": {},
   "source": [
    "## Discriminant Analysis (LDA/QDA)"
   ]
  },
  {
   "cell_type": "code",
   "execution_count": 18,
   "metadata": {},
   "outputs": [
    {
     "name": "stdout",
     "output_type": "stream",
     "text": [
      "{'n_components': None, 'priors': None, 'shrinkage': None, 'solver': 'svd', 'store_covariance': False, 'tol': 0.0001}\n"
     ]
    }
   ],
   "source": [
    "# LDA\n",
    "# Start with solver\n",
    "grid = {'solver': ['svd', 'lsqr', 'eigen']}\n",
    "\n",
    "lda_mod = LinearDiscriminantAnalysis()\n",
    "clf = GridSearchCV(lda_mod, param_grid=grid, scoring='roc_auc', cv=10, n_jobs=-1)\n",
    "best_lda = clf.fit(X_train, y_train)\n",
    "\n",
    "# SVD is best solver, so no shrinkage tuning required\n",
    "print(best_lda.best_estimator_.get_params())"
   ]
  },
  {
   "cell_type": "code",
   "execution_count": 19,
   "metadata": {},
   "outputs": [
    {
     "name": "stdout",
     "output_type": "stream",
     "text": [
      "              precision    recall  f1-score   support\n",
      "\n",
      "           0       0.82      0.90      0.86       109\n",
      "           1       0.93      0.87      0.90       167\n",
      "\n",
      "    accuracy                           0.88       276\n",
      "   macro avg       0.88      0.89      0.88       276\n",
      "weighted avg       0.89      0.88      0.88       276\n",
      "\n",
      "0.8866670329066637\n"
     ]
    }
   ],
   "source": [
    "# roc_auc = .887, accuracy = .88\n",
    "y_pred = clf.predict(X_test)\n",
    "print(classification_report(y_test, y_pred))\n",
    "print(roc_auc_score(y_test, y_pred))"
   ]
  },
  {
   "cell_type": "code",
   "execution_count": 17,
   "metadata": {},
   "outputs": [
    {
     "name": "stdout",
     "output_type": "stream",
     "text": [
      "              precision    recall  f1-score   support\n",
      "\n",
      "           0       0.80      0.91      0.85       109\n",
      "           1       0.93      0.85      0.89       167\n",
      "\n",
      "    accuracy                           0.87       276\n",
      "   macro avg       0.87      0.88      0.87       276\n",
      "weighted avg       0.88      0.87      0.87       276\n",
      "\n",
      "0.879278140965775\n"
     ]
    }
   ],
   "source": [
    "# QDA\n",
    "qda_mod = QuadraticDiscriminantAnalysis()\n",
    "qda_mod.fit(X_train, y_train)\n",
    "\n",
    "# roc_auc = .879, accuracy = .87\n",
    "y_pred = qda_mod.predict(X_test)\n",
    "print(classification_report(y_test, y_pred))\n",
    "print(roc_auc_score(y_test, y_pred))"
   ]
  },
  {
   "cell_type": "markdown",
   "metadata": {},
   "source": [
    "## SVM"
   ]
  },
  {
   "cell_type": "code",
   "execution_count": 10,
   "metadata": {},
   "outputs": [
    {
     "name": "stdout",
     "output_type": "stream",
     "text": [
      "Fitting 10 folds for each of 72 candidates, totalling 720 fits\n"
     ]
    },
    {
     "name": "stderr",
     "output_type": "stream",
     "text": [
      "[Parallel(n_jobs=-1)]: Using backend LokyBackend with 4 concurrent workers.\n",
      "[Parallel(n_jobs=-1)]: Done 108 tasks      | elapsed:    2.1s\n",
      "[Parallel(n_jobs=-1)]: Done 592 tasks      | elapsed:    8.9s\n"
     ]
    },
    {
     "name": "stdout",
     "output_type": "stream",
     "text": [
      "{'C': 10, 'cache_size': 200, 'class_weight': None, 'coef0': 0.0, 'decision_function_shape': 'ovr', 'degree': 3, 'gamma': 0.01, 'kernel': 'rbf', 'max_iter': -1, 'probability': False, 'random_state': None, 'shrinking': True, 'tol': 0.001, 'verbose': False}\n"
     ]
    },
    {
     "name": "stderr",
     "output_type": "stream",
     "text": [
      "[Parallel(n_jobs=-1)]: Done 720 out of 720 | elapsed:   10.9s finished\n",
      "/Users/sam/opt/anaconda3/lib/python3.7/site-packages/sklearn/model_selection/_search.py:814: DeprecationWarning: The default of the `iid` parameter will change from True to False in version 0.22 and will be removed in 0.24. This will change numeric results when test-set sizes are unequal.\n",
      "  DeprecationWarning)\n"
     ]
    }
   ],
   "source": [
    "# SVM\n",
    "svm_mod = SVC()\n",
    "\n",
    "grid = {\n",
    "    'C': [.01, .1, 1, 10],\n",
    "    'kernel': ['poly', 'rbf', 'sigmoid'],\n",
    "    'gamma': ['auto', 10, 1, .1, .01, .001]\n",
    "}\n",
    "\n",
    "# grid = {'kernel': ['linear', 'poly', 'rbf', 'sigmoid']}\n",
    "\n",
    "clf_svm = GridSearchCV(svm_mod, param_grid=grid, scoring='roc_auc', cv=10, n_jobs=-1, verbose=2)\n",
    "best_svm = clf_svm.fit(X_train, y_train)\n",
    "print(best_svm.best_estimator_.get_params())"
   ]
  },
  {
   "cell_type": "code",
   "execution_count": 16,
   "metadata": {},
   "outputs": [
    {
     "name": "stdout",
     "output_type": "stream",
     "text": [
      "              precision    recall  f1-score   support\n",
      "\n",
      "           0       0.84      0.86      0.85       109\n",
      "           1       0.91      0.89      0.90       167\n",
      "\n",
      "    accuracy                           0.88       276\n",
      "   macro avg       0.87      0.88      0.88       276\n",
      "weighted avg       0.88      0.88      0.88       276\n",
      "\n",
      "0.8773004449815964\n"
     ]
    }
   ],
   "source": [
    "# roc_auc = .877, accuracy = .88\n",
    "y_pred = clf_svm.predict(X_test)\n",
    "print(classification_report(y_test, y_pred))\n",
    "print(roc_auc_score(y_test, y_pred))"
   ]
  },
  {
   "cell_type": "markdown",
   "metadata": {},
   "source": [
    "## XGBoost"
   ]
  },
  {
   "cell_type": "code",
   "execution_count": 12,
   "metadata": {},
   "outputs": [
    {
     "name": "stdout",
     "output_type": "stream",
     "text": [
      "Fitting 10 folds for each of 50000 candidates, totalling 500000 fits\n"
     ]
    },
    {
     "name": "stderr",
     "output_type": "stream",
     "text": [
      "[Parallel(n_jobs=-1)]: Using backend LokyBackend with 4 concurrent workers.\n",
      "[Parallel(n_jobs=-1)]: Done  33 tasks      | elapsed:    2.1s\n",
      "[Parallel(n_jobs=-1)]: Done 154 tasks      | elapsed:    8.1s\n",
      "[Parallel(n_jobs=-1)]: Done 357 tasks      | elapsed:   19.5s\n",
      "[Parallel(n_jobs=-1)]: Done 640 tasks      | elapsed:   35.2s\n",
      "[Parallel(n_jobs=-1)]: Done 1005 tasks      | elapsed:   58.4s\n",
      "[Parallel(n_jobs=-1)]: Done 1450 tasks      | elapsed:  1.4min\n",
      "[Parallel(n_jobs=-1)]: Done 1977 tasks      | elapsed:  2.0min\n",
      "[Parallel(n_jobs=-1)]: Done 2584 tasks      | elapsed:  2.7min\n",
      "[Parallel(n_jobs=-1)]: Done 3273 tasks      | elapsed:  3.5min\n",
      "[Parallel(n_jobs=-1)]: Done 4042 tasks      | elapsed:  4.4min\n",
      "[Parallel(n_jobs=-1)]: Done 4893 tasks      | elapsed:  5.5min\n",
      "[Parallel(n_jobs=-1)]: Done 5824 tasks      | elapsed:  6.7min\n",
      "[Parallel(n_jobs=-1)]: Done 6837 tasks      | elapsed:  8.0min\n",
      "[Parallel(n_jobs=-1)]: Done 7930 tasks      | elapsed:  9.5min\n",
      "[Parallel(n_jobs=-1)]: Done 9105 tasks      | elapsed: 11.1min\n",
      "[Parallel(n_jobs=-1)]: Done 10360 tasks      | elapsed: 13.0min\n",
      "[Parallel(n_jobs=-1)]: Done 11697 tasks      | elapsed: 14.9min\n",
      "[Parallel(n_jobs=-1)]: Done 13114 tasks      | elapsed: 16.9min\n",
      "[Parallel(n_jobs=-1)]: Done 14613 tasks      | elapsed: 18.9min\n",
      "[Parallel(n_jobs=-1)]: Done 16192 tasks      | elapsed: 21.2min\n",
      "[Parallel(n_jobs=-1)]: Done 17853 tasks      | elapsed: 23.5min\n",
      "[Parallel(n_jobs=-1)]: Done 19594 tasks      | elapsed: 25.8min\n",
      "[Parallel(n_jobs=-1)]: Done 21417 tasks      | elapsed: 28.5min\n",
      "[Parallel(n_jobs=-1)]: Done 23320 tasks      | elapsed: 31.1min\n",
      "[Parallel(n_jobs=-1)]: Done 25305 tasks      | elapsed: 34.0min\n",
      "[Parallel(n_jobs=-1)]: Done 27370 tasks      | elapsed: 36.9min\n",
      "[Parallel(n_jobs=-1)]: Done 29517 tasks      | elapsed: 39.9min\n",
      "[Parallel(n_jobs=-1)]: Done 31744 tasks      | elapsed: 43.1min\n",
      "[Parallel(n_jobs=-1)]: Done 34053 tasks      | elapsed: 48.1min\n",
      "[Parallel(n_jobs=-1)]: Done 36442 tasks      | elapsed: 53.0min\n",
      "[Parallel(n_jobs=-1)]: Done 38913 tasks      | elapsed: 58.3min\n",
      "[Parallel(n_jobs=-1)]: Done 41464 tasks      | elapsed: 63.8min\n",
      "[Parallel(n_jobs=-1)]: Done 44097 tasks      | elapsed: 70.1min\n",
      "[Parallel(n_jobs=-1)]: Done 46810 tasks      | elapsed: 74.3min\n",
      "[Parallel(n_jobs=-1)]: Done 49605 tasks      | elapsed: 79.1min\n",
      "[Parallel(n_jobs=-1)]: Done 52480 tasks      | elapsed: 84.1min\n",
      "[Parallel(n_jobs=-1)]: Done 55437 tasks      | elapsed: 88.9min\n",
      "[Parallel(n_jobs=-1)]: Done 58474 tasks      | elapsed: 93.4min\n",
      "[Parallel(n_jobs=-1)]: Done 61593 tasks      | elapsed: 98.3min\n",
      "[Parallel(n_jobs=-1)]: Done 64792 tasks      | elapsed: 103.1min\n",
      "[Parallel(n_jobs=-1)]: Done 68073 tasks      | elapsed: 107.5min\n",
      "[Parallel(n_jobs=-1)]: Done 71434 tasks      | elapsed: 114.4min\n",
      "[Parallel(n_jobs=-1)]: Done 74877 tasks      | elapsed: 119.2min\n",
      "[Parallel(n_jobs=-1)]: Done 78400 tasks      | elapsed: 123.9min\n",
      "[Parallel(n_jobs=-1)]: Done 82005 tasks      | elapsed: 128.6min\n",
      "[Parallel(n_jobs=-1)]: Done 85690 tasks      | elapsed: 134.5min\n",
      "[Parallel(n_jobs=-1)]: Done 89457 tasks      | elapsed: 139.1min\n",
      "[Parallel(n_jobs=-1)]: Done 93304 tasks      | elapsed: 143.8min\n",
      "[Parallel(n_jobs=-1)]: Done 97233 tasks      | elapsed: 148.9min\n",
      "[Parallel(n_jobs=-1)]: Done 101242 tasks      | elapsed: 154.6min\n",
      "[Parallel(n_jobs=-1)]: Done 105333 tasks      | elapsed: 160.3min\n",
      "[Parallel(n_jobs=-1)]: Done 109504 tasks      | elapsed: 166.4min\n",
      "[Parallel(n_jobs=-1)]: Done 113757 tasks      | elapsed: 172.4min\n",
      "[Parallel(n_jobs=-1)]: Done 118090 tasks      | elapsed: 178.6min\n",
      "[Parallel(n_jobs=-1)]: Done 122505 tasks      | elapsed: 184.7min\n",
      "[Parallel(n_jobs=-1)]: Done 127000 tasks      | elapsed: 191.0min\n",
      "[Parallel(n_jobs=-1)]: Done 131577 tasks      | elapsed: 197.2min\n",
      "[Parallel(n_jobs=-1)]: Done 136234 tasks      | elapsed: 203.4min\n",
      "[Parallel(n_jobs=-1)]: Done 140973 tasks      | elapsed: 209.8min\n",
      "[Parallel(n_jobs=-1)]: Done 145792 tasks      | elapsed: 216.3min\n",
      "[Parallel(n_jobs=-1)]: Done 150693 tasks      | elapsed: 222.9min\n",
      "[Parallel(n_jobs=-1)]: Done 155674 tasks      | elapsed: 229.8min\n",
      "[Parallel(n_jobs=-1)]: Done 160737 tasks      | elapsed: 236.6min\n",
      "[Parallel(n_jobs=-1)]: Done 165880 tasks      | elapsed: 243.7min\n",
      "[Parallel(n_jobs=-1)]: Done 171105 tasks      | elapsed: 250.8min\n",
      "[Parallel(n_jobs=-1)]: Done 176410 tasks      | elapsed: 258.0min\n",
      "[Parallel(n_jobs=-1)]: Done 181797 tasks      | elapsed: 265.0min\n",
      "[Parallel(n_jobs=-1)]: Done 187264 tasks      | elapsed: 272.2min\n",
      "[Parallel(n_jobs=-1)]: Done 192813 tasks      | elapsed: 279.8min\n",
      "[Parallel(n_jobs=-1)]: Done 198442 tasks      | elapsed: 287.5min\n",
      "[Parallel(n_jobs=-1)]: Done 204153 tasks      | elapsed: 295.1min\n",
      "[Parallel(n_jobs=-1)]: Done 209944 tasks      | elapsed: 303.0min\n",
      "[Parallel(n_jobs=-1)]: Done 215817 tasks      | elapsed: 310.8min\n",
      "[Parallel(n_jobs=-1)]: Done 221770 tasks      | elapsed: 318.8min\n",
      "[Parallel(n_jobs=-1)]: Done 227805 tasks      | elapsed: 326.9min\n",
      "[Parallel(n_jobs=-1)]: Done 233920 tasks      | elapsed: 335.0min\n",
      "[Parallel(n_jobs=-1)]: Done 240117 tasks      | elapsed: 343.4min\n",
      "[Parallel(n_jobs=-1)]: Done 246394 tasks      | elapsed: 351.8min\n",
      "[Parallel(n_jobs=-1)]: Done 252753 tasks      | elapsed: 360.3min\n",
      "[Parallel(n_jobs=-1)]: Done 259192 tasks      | elapsed: 368.9min\n",
      "[Parallel(n_jobs=-1)]: Done 265713 tasks      | elapsed: 377.9min\n",
      "[Parallel(n_jobs=-1)]: Done 272314 tasks      | elapsed: 387.0min\n",
      "[Parallel(n_jobs=-1)]: Done 278997 tasks      | elapsed: 396.1min\n",
      "[Parallel(n_jobs=-1)]: Done 285760 tasks      | elapsed: 405.1min\n",
      "[Parallel(n_jobs=-1)]: Done 292605 tasks      | elapsed: 414.2min\n",
      "[Parallel(n_jobs=-1)]: Done 299530 tasks      | elapsed: 423.5min\n",
      "[Parallel(n_jobs=-1)]: Done 306537 tasks      | elapsed: 432.8min\n",
      "[Parallel(n_jobs=-1)]: Done 313624 tasks      | elapsed: 442.2min\n",
      "[Parallel(n_jobs=-1)]: Done 320793 tasks      | elapsed: 451.6min\n",
      "[Parallel(n_jobs=-1)]: Done 328042 tasks      | elapsed: 461.4min\n",
      "[Parallel(n_jobs=-1)]: Done 335373 tasks      | elapsed: 471.3min\n",
      "[Parallel(n_jobs=-1)]: Done 342784 tasks      | elapsed: 481.3min\n",
      "[Parallel(n_jobs=-1)]: Done 350277 tasks      | elapsed: 491.1min\n",
      "[Parallel(n_jobs=-1)]: Done 357850 tasks      | elapsed: 501.3min\n",
      "[Parallel(n_jobs=-1)]: Done 365505 tasks      | elapsed: 511.6min\n",
      "[Parallel(n_jobs=-1)]: Done 373240 tasks      | elapsed: 521.8min\n",
      "[Parallel(n_jobs=-1)]: Done 381057 tasks      | elapsed: 532.1min\n",
      "[Parallel(n_jobs=-1)]: Done 388954 tasks      | elapsed: 542.6min\n",
      "[Parallel(n_jobs=-1)]: Done 396933 tasks      | elapsed: 553.2min\n",
      "[Parallel(n_jobs=-1)]: Done 404992 tasks      | elapsed: 564.0min\n",
      "[Parallel(n_jobs=-1)]: Done 413133 tasks      | elapsed: 574.9min\n",
      "[Parallel(n_jobs=-1)]: Done 421354 tasks      | elapsed: 585.7min\n",
      "[Parallel(n_jobs=-1)]: Done 429657 tasks      | elapsed: 596.8min\n",
      "[Parallel(n_jobs=-1)]: Done 438040 tasks      | elapsed: 607.9min\n",
      "[Parallel(n_jobs=-1)]: Done 446505 tasks      | elapsed: 619.1min\n",
      "[Parallel(n_jobs=-1)]: Done 455050 tasks      | elapsed: 630.2min\n",
      "[Parallel(n_jobs=-1)]: Done 463677 tasks      | elapsed: 641.4min\n",
      "[Parallel(n_jobs=-1)]: Done 472384 tasks      | elapsed: 652.8min\n",
      "[Parallel(n_jobs=-1)]: Done 481173 tasks      | elapsed: 664.7min\n",
      "[Parallel(n_jobs=-1)]: Done 490042 tasks      | elapsed: 676.6min\n",
      "[Parallel(n_jobs=-1)]: Done 498993 tasks      | elapsed: 688.5min\n",
      "[Parallel(n_jobs=-1)]: Done 500000 out of 500000 | elapsed: 689.9min finished\n",
      "/Users/sam/opt/anaconda3/lib/python3.7/site-packages/sklearn/model_selection/_search.py:814: DeprecationWarning: The default of the `iid` parameter will change from True to False in version 0.22 and will be removed in 0.24. This will change numeric results when test-set sizes are unequal.\n",
      "  DeprecationWarning)\n"
     ]
    },
    {
     "name": "stdout",
     "output_type": "stream",
     "text": [
      "{'base_score': 0.5, 'booster': 'gbtree', 'colsample_bylevel': 1, 'colsample_bynode': 1, 'colsample_bytree': 0.8999999999999999, 'gamma': 0.5, 'learning_rate': 0.1, 'max_delta_step': 0, 'max_depth': 3, 'min_child_weight': 5, 'missing': None, 'n_estimators': 100, 'n_jobs': 1, 'nthread': None, 'objective': 'binary:logistic', 'random_state': 0, 'reg_alpha': 1.0, 'reg_lambda': 1.0, 'scale_pos_weight': 1.2, 'seed': None, 'silent': None, 'subsample': 0.8999999999999999, 'verbosity': 1, 'eta': 0.2}\n"
     ]
    }
   ],
   "source": [
    "# XGBoost\n",
    "xgb_mod = XGBClassifier()\n",
    "\n",
    "dist = {\n",
    "        'eta': [0.01, 0.05, 0.1, 0.2, 0.3],\n",
    "        'min_child_weight': [1, 5, 10],\n",
    "        'gamma': [0, 0.1, 0.5, 1.0, 5, 10],\n",
    "        'subsample': np.arange(0.5, 1, 0.1),\n",
    "        'colsample_bytree': np.arange(0.5, 1, 0.1),\n",
    "        'max_depth': np.arange(3, 10, 2),\n",
    "        'scale_pos_weight': [1, 1.2],\n",
    "        'reg_alpha': [0, 0.1, 1.0, 10.0, 100.0],\n",
    "        'reg_lambda': [0, 0.1, 1.0, 10.0, 100.0]\n",
    "        }\n",
    "\n",
    "clf_xgb = RandomizedSearchCV(xgb_mod, param_distributions=dist, scoring='roc_auc', n_iter=50000, cv=10, random_state=1, n_jobs=-1, verbose=2)\n",
    "best_xgb = clf_xgb.fit(X_train, y_train)\n",
    "print(best_xgb.best_estimator_.get_params())"
   ]
  },
  {
   "cell_type": "code",
   "execution_count": 22,
   "metadata": {},
   "outputs": [
    {
     "name": "stdout",
     "output_type": "stream",
     "text": [
      "              precision    recall  f1-score   support\n",
      "\n",
      "           0       0.89      0.85      0.87       109\n",
      "           1       0.91      0.93      0.92       167\n",
      "\n",
      "    accuracy                           0.90       276\n",
      "   macro avg       0.90      0.89      0.89       276\n",
      "weighted avg       0.90      0.90      0.90       276\n",
      "\n",
      "0.890677360874581\n"
     ]
    }
   ],
   "source": [
    "# Model with highest roc_auc\n",
    "xgb_model = XGBClassifier(base_score=0.5, booster='gbtree', colsample_bylevel=1, colsample_bytree=0.6,\n",
    "gamma=1, learning_rate=0.1, max_delta_step=0, max_depth=9, min_child_weight=5, missing=None, n_estimators=100,\n",
    "n_jobs=1, nthread=None, objective='binary:logistic', random_state=0, reg_alpha=10, reg_lambda=0.1,\n",
    "scale_pos_weight=1.2, subsample=0.9, eta=0.2)\n",
    "xgb_model.fit(X_train, y_train)\n",
    "\n",
    "# roc_auc = .891, accuracy = .90\n",
    "y_pred = xgb_model.predict(X_test)\n",
    "print(classification_report(y_test, y_pred))\n",
    "print(roc_auc_score(y_test, y_pred))"
   ]
  },
  {
   "cell_type": "code",
   "execution_count": 65,
   "metadata": {},
   "outputs": [],
   "source": [
    "feature_names = features.columns.tolist()\n",
    "feature_names.remove('HeartDisease')\n",
    "\n",
    "plot_df = pd.DataFrame({\n",
    "    'Feature': feature_names,\n",
    "    'Importance': xgb_model.feature_importances_\n",
    "})"
   ]
  },
  {
   "cell_type": "code",
   "execution_count": 67,
   "metadata": {},
   "outputs": [
    {
     "data": {
      "text/plain": [
       "(array([ 0,  1,  2,  3,  4,  5,  6,  7,  8,  9, 10, 11, 12, 13, 14]),\n",
       " <a list of 15 Text xticklabel objects>)"
      ]
     },
     "execution_count": 67,
     "metadata": {},
     "output_type": "execute_result"
    },
    {
     "data": {
      "image/png": "[encoded data removed]",
      "text/plain": [
       "<Figure size 432x288 with 1 Axes>"
      ]
     },
     "metadata": {
      "needs_background": "light"
     },
     "output_type": "display_data"
    }
   ],
   "source": [
    "sns.barplot(x = 'Feature', y = 'Importance', data=plot_df)\n",
    "plt.xticks(rotation=90)"
   ]
  },
  {
   "cell_type": "code",
   "execution_count": 82,
   "metadata": {},
   "outputs": [],
   "source": [
    "recall_list = []\n",
    "roc_list = []\n",
    "for thresh in np.arange(1, 0, -0.01):\n",
    "    y_rec_p = xgb_model.predict_proba(X_test)\n",
    "    y_rec_p = [1 if item[1] > thresh else 0 for item in y_rec_p]\n",
    "    recall_list.append(recall_score(y_test, y_rec_p))\n",
    "    roc_list.append(roc_auc_score(y_test, y_rec_p))"
   ]
  },
  {
   "cell_type": "code",
   "execution_count": 98,
   "metadata": {},
   "outputs": [
    {
     "data": {
      "image/png": "[encoded data removed]",
      "text/plain": [
       "<Figure size 864x432 with 2 Axes>"
      ]
     },
     "metadata": {
      "needs_background": "light"
     },
     "output_type": "display_data"
    }
   ],
   "source": [
    "plot_recall = pd.DataFrame({\n",
    "    'Threshold': np.arange(1, 0, -0.01),\n",
    "    'Recall': recall_list,\n",
    "    'ROC-AUC': roc_list\n",
    "    })\n",
    "\n",
    "fig, (ax1, ax2) = plt.subplots(1, 2, figsize=(12, 6))\n",
    "sns.lineplot(ax=ax1, x = 'Threshold', y = 'Recall', data = plot_recall)\n",
    "sns.lineplot(ax=ax2, x = 'Threshold', y = 'ROC-AUC', data = plot_recall)\n",
    "plt.subplots_adjust(hspace=1.5)"
   ]
  },
  {
   "cell_type": "code",
   "execution_count": 86,
   "metadata": {},
   "outputs": [
    {
     "data": {
      "text/plain": [
       "Threshold    0.570000\n",
       "Recall       0.916168\n",
       "ROC-AUC      0.903038\n",
       "Name: 43, dtype: float64"
      ]
     },
     "execution_count": 86,
     "metadata": {},
     "output_type": "execute_result"
    }
   ],
   "source": [
    "plot_recall.iloc[plot_recall['ROC-AUC'].idxmax()]"
   ]
  },
  {
   "cell_type": "code",
   "execution_count": 99,
   "metadata": {},
   "outputs": [
    {
     "data": {
      "text/html": [
       "<div>\n",
       "<style scoped>\n",
       "    .dataframe tbody tr th:only-of-type {\n",
       "        vertical-align: middle;\n",
       "    }\n",
       "\n",
       "    .dataframe tbody tr th {\n",
       "        vertical-align: top;\n",
       "    }\n",
       "\n",
       "    .dataframe thead th {\n",
       "        text-align: right;\n",
       "    }\n",
       "</style>\n",
       "<table border=\"1\" class=\"dataframe\">\n",
       "  <thead>\n",
       "    <tr style=\"text-align: right;\">\n",
       "      <th></th>\n",
       "      <th>Threshold</th>\n",
       "      <th>Recall</th>\n",
       "      <th>ROC-AUC</th>\n",
       "    </tr>\n",
       "  </thead>\n",
       "  <tbody>\n",
       "    <tr>\n",
       "      <td>60</td>\n",
       "      <td>0.40</td>\n",
       "      <td>0.946108</td>\n",
       "      <td>0.858375</td>\n",
       "    </tr>\n",
       "    <tr>\n",
       "      <td>61</td>\n",
       "      <td>0.39</td>\n",
       "      <td>0.946108</td>\n",
       "      <td>0.849201</td>\n",
       "    </tr>\n",
       "    <tr>\n",
       "      <td>62</td>\n",
       "      <td>0.38</td>\n",
       "      <td>0.946108</td>\n",
       "      <td>0.840026</td>\n",
       "    </tr>\n",
       "    <tr>\n",
       "      <td>63</td>\n",
       "      <td>0.37</td>\n",
       "      <td>0.946108</td>\n",
       "      <td>0.840026</td>\n",
       "    </tr>\n",
       "    <tr>\n",
       "      <td>64</td>\n",
       "      <td>0.36</td>\n",
       "      <td>0.946108</td>\n",
       "      <td>0.840026</td>\n",
       "    </tr>\n",
       "    <tr>\n",
       "      <td>65</td>\n",
       "      <td>0.35</td>\n",
       "      <td>0.946108</td>\n",
       "      <td>0.826265</td>\n",
       "    </tr>\n",
       "    <tr>\n",
       "      <td>66</td>\n",
       "      <td>0.34</td>\n",
       "      <td>0.946108</td>\n",
       "      <td>0.812503</td>\n",
       "    </tr>\n",
       "    <tr>\n",
       "      <td>67</td>\n",
       "      <td>0.33</td>\n",
       "      <td>0.946108</td>\n",
       "      <td>0.798742</td>\n",
       "    </tr>\n",
       "    <tr>\n",
       "      <td>68</td>\n",
       "      <td>0.32</td>\n",
       "      <td>0.946108</td>\n",
       "      <td>0.794155</td>\n",
       "    </tr>\n",
       "    <tr>\n",
       "      <td>69</td>\n",
       "      <td>0.31</td>\n",
       "      <td>0.952096</td>\n",
       "      <td>0.797149</td>\n",
       "    </tr>\n",
       "    <tr>\n",
       "      <td>70</td>\n",
       "      <td>0.30</td>\n",
       "      <td>0.958084</td>\n",
       "      <td>0.800143</td>\n",
       "    </tr>\n",
       "    <tr>\n",
       "      <td>71</td>\n",
       "      <td>0.29</td>\n",
       "      <td>0.958084</td>\n",
       "      <td>0.790969</td>\n",
       "    </tr>\n",
       "    <tr>\n",
       "      <td>72</td>\n",
       "      <td>0.28</td>\n",
       "      <td>0.958084</td>\n",
       "      <td>0.786381</td>\n",
       "    </tr>\n",
       "    <tr>\n",
       "      <td>73</td>\n",
       "      <td>0.27</td>\n",
       "      <td>0.958084</td>\n",
       "      <td>0.786381</td>\n",
       "    </tr>\n",
       "    <tr>\n",
       "      <td>74</td>\n",
       "      <td>0.26</td>\n",
       "      <td>0.958084</td>\n",
       "      <td>0.786381</td>\n",
       "    </tr>\n",
       "    <tr>\n",
       "      <td>75</td>\n",
       "      <td>0.25</td>\n",
       "      <td>0.958084</td>\n",
       "      <td>0.781794</td>\n",
       "    </tr>\n",
       "    <tr>\n",
       "      <td>76</td>\n",
       "      <td>0.24</td>\n",
       "      <td>0.958084</td>\n",
       "      <td>0.763446</td>\n",
       "    </tr>\n",
       "    <tr>\n",
       "      <td>77</td>\n",
       "      <td>0.23</td>\n",
       "      <td>0.958084</td>\n",
       "      <td>0.763446</td>\n",
       "    </tr>\n",
       "    <tr>\n",
       "      <td>78</td>\n",
       "      <td>0.22</td>\n",
       "      <td>0.958084</td>\n",
       "      <td>0.763446</td>\n",
       "    </tr>\n",
       "    <tr>\n",
       "      <td>79</td>\n",
       "      <td>0.21</td>\n",
       "      <td>0.964072</td>\n",
       "      <td>0.766440</td>\n",
       "    </tr>\n",
       "  </tbody>\n",
       "</table>\n",
       "</div>"
      ],
      "text/plain": [
       "    Threshold    Recall   ROC-AUC\n",
       "60       0.40  0.946108  0.858375\n",
       "61       0.39  0.946108  0.849201\n",
       "62       0.38  0.946108  0.840026\n",
       "63       0.37  0.946108  0.840026\n",
       "64       0.36  0.946108  0.840026\n",
       "65       0.35  0.946108  0.826265\n",
       "66       0.34  0.946108  0.812503\n",
       "67       0.33  0.946108  0.798742\n",
       "68       0.32  0.946108  0.794155\n",
       "69       0.31  0.952096  0.797149\n",
       "70       0.30  0.958084  0.800143\n",
       "71       0.29  0.958084  0.790969\n",
       "72       0.28  0.958084  0.786381\n",
       "73       0.27  0.958084  0.786381\n",
       "74       0.26  0.958084  0.786381\n",
       "75       0.25  0.958084  0.781794\n",
       "76       0.24  0.958084  0.763446\n",
       "77       0.23  0.958084  0.763446\n",
       "78       0.22  0.958084  0.763446\n",
       "79       0.21  0.964072  0.766440"
      ]
     },
     "execution_count": 99,
     "metadata": {},
     "output_type": "execute_result"
    }
   ],
   "source": [
    "plot_recall.iloc[60:80]"
   ]
  },
  {
   "cell_type": "code",
   "execution_count": null,
   "metadata": {},
   "outputs": [],
   "source": []
  }
 ],
 "metadata": {
  "interpreter": {
   "hash": "aee8b7b246df8f9039afb4144a1f6fd8d2ca17a180786b69acc140d282b71a49"
  },
  "kernelspec": {
   "display_name": "Python 3.10.0 64-bit",
   "language": "python",
   "name": "python3"
  },
  "language_info": {
   "codemirror_mode": {
    "name": "ipython",
    "version": 3
   },
   "file_extension": ".py",
   "mimetype": "text/x-python",
   "name": "python",
   "nbconvert_exporter": "python",
   "pygments_lexer": "ipython3",
   "version": "3.7.4"
  },
  "orig_nbformat": 4
 },
 "nbformat": 4,
 "nbformat_minor": 2
}
