{
 "cells": [
  {
   "cell_type": "markdown",
   "metadata": {},
   "source": [
    "# Documenmtation points\n",
    "\n",
    "## Dataset exaplanation\n",
    "\n",
    "## Aim explanation\n",
    "- Medical circumstance\n",
    "  - Want to focus on:\n",
    "    - High Recall (We prefer false positive more than false negative)\n",
    "\n",
    "## Methodology + model comparison\n",
    "- How we approach\n",
    "  - multiple methods \n",
    "  - initial / simple hypyerparameter tuning to prune the methodology\n",
    "    - deep dive into hyperparameter tuning for the chosen model\n",
    "- Add more details on best methodology\n",
    "\n",
    "## Conclusion"
   ]
  },
  {
   "cell_type": "markdown",
   "metadata": {},
   "source": [
    "# STEPS\n",
    "1. Data pre-processing\n",
    "   1. Cateogiral variables -> Create dummies\n",
    "   2. Standardise (z-scoring, (x-mean)/stdv) entire numerical variables\n",
    "2. Gridsearch CV / (Randomsearch CV for resource intensive models)\n",
    "   1. Decide the hyper-parameter tuning (Copy and paste exisitng Google)\n",
    "3. Performance metrics: ROC / Recall\n"
   ]
  },
  {
   "cell_type": "markdown",
   "metadata": {},
   "source": [
    "Both of us:\n",
    "- Prepare dataset -> dummify categorical vars / standardise\n",
    "- (set.seed(1))\n",
    "- Run the code with same models / simple hyper parameter tuning \n",
    "- Hard deadline Wednesday\n",
    "- Communicate and share and interact all the time"
   ]
  },
  {
   "cell_type": "markdown",
   "metadata": {},
   "source": []
  }
 ],
 "metadata": {
  "language_info": {
   "name": "python"
  },
  "orig_nbformat": 4
 },
 "nbformat": 4,
 "nbformat_minor": 2
}
