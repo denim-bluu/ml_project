{
 "cells": [
  {
   "cell_type": "markdown",
   "metadata": {},
   "source": [
    "# Documenmtation points\n",
    "\n",
    "## Dataset exaplanation <JOON>\n",
    "\n",
    "## Aim explanation <SAM>\n",
    "- Medical circumstance\n",
    "  - Want to focus on:\n",
    "    - High Recall (We prefer false positive more than false negative)\n",
    "\n",
    "## Methodology + model comparison (ROC AUC SCORE)\n",
    "\n",
    "- How we approach (Accuracy metric based) <JOON>\n",
    "  - multiple methods \n",
    "  - initial / simple hypyerparameter tuning to prune the methodology\n",
    "    - deep dive into hyperparameter tuning for the chosen model\n",
    "- Add more details on best methodology <SAM>\n",
    "  - How does it work\n",
    "  - Why it is the best\n",
    "  - Feature importance (simple interpretation)\n",
    "  - Deep dive on Recall rate based on different thresholds (Make some comments)\n",
    "\n",
    "## Conclusion"
   ]
  },
  {
   "cell_type": "markdown",
   "metadata": {},
   "source": [
    "# STEPS\n",
    "1. Data pre-processing\n",
    "   1. Cateogiral variables -> Create dummies\n",
    "   2. Standardise (z-scoring, (x-mean)/stdv) entire numerical variables\n",
    "2. Gridsearch CV / (Randomsearch CV for resource intensive models)\n",
    "   1. Decide the hyper-parameter tuning (Copy and paste exisitng Google)\n",
    "3. Performance metrics: ROC / Recall\n"
   ]
  },
  {
   "cell_type": "markdown",
   "metadata": {},
   "source": [
    "Both of us:\n",
    "- Prepare dataset -> dummify categorical vars / standardise\n",
    "- (set.seed(1))\n",
    "- Run the code with same models / simple hyper parameter tuning \n",
    "- Hard deadline Wednesday\n",
    "- Communicate and share and interact all the time"
   ]
  }
 ],
 "metadata": {
  "interpreter": {
   "hash": "89e2615382d866c86dcb08c1ee33a541393a1fb1ecda965a83fd0bc0a6336998"
  },
  "kernelspec": {
   "display_name": "Python 3.9.9 64-bit ('venv39': pyenv)",
   "language": "python",
   "name": "python3"
  },
  "language_info": {
   "codemirror_mode": {
    "name": "ipython",
    "version": 3
   },
   "file_extension": ".py",
   "mimetype": "text/x-python",
   "name": "python",
   "nbconvert_exporter": "python",
   "pygments_lexer": "ipython3",
   "version": "3.9.9"
  },
  "orig_nbformat": 4
 },
 "nbformat": 4,
 "nbformat_minor": 2
}
